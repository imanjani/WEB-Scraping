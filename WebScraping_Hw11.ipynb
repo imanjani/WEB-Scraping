{
 "cells": [
  {
   "cell_type": "code",
   "execution_count": 1,
   "metadata": {
    "collapsed": true
   },
   "outputs": [],
   "source": [
    "# Dependencies\n",
    "from bs4 import BeautifulSoup as bs\n",
    "import requests\n",
    "from selenium import webdriver\n",
    "from splinter import Browser\n",
    "import time\n",
    "\n",
    "import json\n",
    "import tweepy\n",
    "import apikeys\n",
    "import pandas as pd\n",
    "import seaborn as sns\n",
    "import matplotlib.pyplot as plt\n",
    "import numpy as np\n",
    "import os\n",
    "\n",
    "# since beautifulsoup cannot retrieve javascript parts of the page, selenium\n",
    "# is being used to retrieve the rendered html file.\n",
    "url = 'https://mars.nasa.gov/news/'\n",
    "browser = webdriver.Chrome('chromedriver.exe')\n",
    "\n",
    "# Retrieve page with the 'get' function from the browser object.  Then using\n",
    "# 'page_source function to get html text\n",
    "\n",
    "browser.get(url)\n",
    "html = browser.page_source\n",
    "\n",
    "# Create BeautifulSoup object; parse with 'html.parser'\n",
    "soup = bs(html, 'html.parser')\n",
    "browser.close()"
   ]
  },
  {
   "cell_type": "markdown",
   "metadata": {},
   "source": [
    "### Selenium module was used to pull the html file from the nasa website.  Reason for this was because the site had articles that was being uploaded using javascript.  Hence beautiful soup could only read about half of the 'li' tags from the article.  Even after 'prettify' was called, html text only showed 6-7 content titles, where there should have been 15."
   ]
  },
  {
   "cell_type": "code",
   "execution_count": 2,
   "metadata": {},
   "outputs": [],
   "source": [
    "# print(soup.body.prettify())"
   ]
  },
  {
   "cell_type": "code",
   "execution_count": 3,
   "metadata": {
    "collapsed": true
   },
   "outputs": [],
   "source": [
    "# THIS LINE OF CODE FINDS THE BOTTOM 'SLIDE AND SLIDE' ARTICLES WHICH\n",
    "# ARE DUPLICATES FROM THE TOP PORTION\n",
    "\n",
    "# soup_title = soup.find_all(\"div\", class_=\"content_title\")\n",
    "# for result in soup_title:\n",
    "#     print(result.text)"
   ]
  },
  {
   "cell_type": "code",
   "execution_count": 4,
   "metadata": {
    "collapsed": true
   },
   "outputs": [],
   "source": [
    "# THIS LINE OF CODE FINDS THE BOTTOM 'SLIDE AND SLIDE' ARTICLES WHICH\n",
    "# ARE DUPLICATES FROM THE TOP PORTION\n",
    "\n",
    "# soup_teaser = soup.find_all(\"div\", class_=\"rollover_description_inner\")\n",
    "# for each in soup_teaser:\n",
    "#     print(each.text)"
   ]
  },
  {
   "cell_type": "code",
   "execution_count": 5,
   "metadata": {
    "collapsed": true
   },
   "outputs": [],
   "source": [
    "soup_li = soup.find_all('li', class_='slide')\n",
    "#len(soup_li)"
   ]
  },
  {
   "cell_type": "code",
   "execution_count": 6,
   "metadata": {
    "collapsed": true
   },
   "outputs": [],
   "source": [
    "list_of_titles = []\n",
    "list_of_paragraphs = []\n",
    "\n",
    "for eachslide in soup_li:\n",
    "    one_title = eachslide.find('div', class_='content_title').text\n",
    "    one_paragraph = eachslide.find('div', class_='article_teaser_body').text\n",
    "#     print(\"TITLE:  \" + one_title)\n",
    "#     print(\"PARAGRAPH:  \" + one_paragraph)\n",
    "#     print()\n",
    "    list_of_titles.append(one_title)\n",
    "    list_of_paragraphs.append(one_paragraph)"
   ]
  },
  {
   "cell_type": "code",
   "execution_count": 7,
   "metadata": {},
   "outputs": [
    {
     "name": "stdout",
     "output_type": "stream",
     "text": [
      "Mount Sharp 'Photobombs' Mars Curiosity Rover\n",
      "A new self-portrait of NASA's Curiosity Mars rover shows the vehicle on Vera Rubin Ridge.\n"
     ]
    }
   ],
   "source": [
    "news_title = list_of_titles[0]\n",
    "news_p = list_of_paragraphs[0]\n",
    "\n",
    "print(news_title)\n",
    "print(news_p)"
   ]
  },
  {
   "cell_type": "markdown",
   "metadata": {},
   "source": [
    "### Using splinter to pull click through the website to find the 'featured' image.  Involves clicking 2 times, where a timer was used because the page execution time was slower than that of the program function.  Hence an error would pop up when there is a lag between the new page opening and the program execution.  Timer is set to 2 second delay before the next line of code."
   ]
  },
  {
   "cell_type": "code",
   "execution_count": 8,
   "metadata": {
    "collapsed": true
   },
   "outputs": [],
   "source": [
    "\n",
    "splint_browser = Browser('chrome', executable_path='chromedriver.exe',\n",
    "                  headless=False)\n",
    "\n",
    "url = 'https://www.jpl.nasa.gov/spaceimages/?search=&category=Mars'\n",
    "splint_browser.visit(url)\n",
    "\n",
    "splint_browser.click_link_by_partial_text('FULL IMAGE')\n",
    "time.sleep(2)\n",
    "splint_browser.click_link_by_partial_text('more info')"
   ]
  },
  {
   "cell_type": "code",
   "execution_count": 9,
   "metadata": {
    "collapsed": true
   },
   "outputs": [],
   "source": [
    "html = splint_browser.html\n",
    "soup = bs(html, 'html.parser')\n",
    "splint_browser.quit()\n",
    "#soup.body.prettify()"
   ]
  },
  {
   "cell_type": "code",
   "execution_count": 10,
   "metadata": {},
   "outputs": [
    {
     "data": {
      "text/plain": [
       "1"
      ]
     },
     "execution_count": 10,
     "metadata": {},
     "output_type": "execute_result"
    }
   ],
   "source": [
    "image_src = soup.find_all('figure', class_='lede')\n",
    "len(image_src)"
   ]
  },
  {
   "cell_type": "code",
   "execution_count": 11,
   "metadata": {
    "scrolled": true
   },
   "outputs": [
    {
     "name": "stdout",
     "output_type": "stream",
     "text": [
      "/spaceimages/images/largesize/PIA19404_hires.jpg\n"
     ]
    }
   ],
   "source": [
    "for each in image_src:\n",
    "    print(each.a['href'])\n",
    "    featured_image_url = 'https://www.jpl.nasa.gov'+each.a['href']"
   ]
  },
  {
   "cell_type": "code",
   "execution_count": 12,
   "metadata": {},
   "outputs": [
    {
     "name": "stdout",
     "output_type": "stream",
     "text": [
      "https://www.jpl.nasa.gov/spaceimages/images/largesize/PIA19404_hires.jpg\n"
     ]
    }
   ],
   "source": [
    "print(featured_image_url)"
   ]
  },
  {
   "cell_type": "markdown",
   "metadata": {},
   "source": [
    "### Pulling the twitter handle and tweet from 'marsweather' twitter account.  Tweet is stored as information on Mars' weather patterns."
   ]
  },
  {
   "cell_type": "code",
   "execution_count": 13,
   "metadata": {
    "collapsed": true
   },
   "outputs": [],
   "source": [
    "# Twitter API Keys\n",
    "consumer_key = apikeys.TWITTER_CONSUMER_KEY\n",
    "consumer_secret = apikeys.TWITTER_CONSUMER_SECRET\n",
    "access_token = apikeys.TWITTER_ACCESS_TOKEN\n",
    "access_token_secret = apikeys.TWITTER_ACCESS_TOKEN_SECRET\n",
    "\n",
    "# Setup Tweepy API Authentication\n",
    "auth = tweepy.OAuthHandler(consumer_key, consumer_secret)\n",
    "auth.set_access_token(access_token, access_token_secret)\n",
    "api = tweepy.API(auth, parser=tweepy.parsers.JSONParser())\n"
   ]
  },
  {
   "cell_type": "code",
   "execution_count": 14,
   "metadata": {},
   "outputs": [],
   "source": [
    "public_tweets = api.user_timeline('marswxreport', count = 3)\n",
    "#print(json.dumps(public_tweets, sort_keys=True, indent=4))\n",
    "mars_weather = ''"
   ]
  },
  {
   "cell_type": "code",
   "execution_count": 15,
   "metadata": {},
   "outputs": [
    {
     "name": "stdout",
     "output_type": "stream",
     "text": [
      "Sol 1949 (Jan 29, 2018), Sunny, high -20C/-4F, low -78C/-108F, pressure at 7.51 hPa, daylight 05:42-17:28\n"
     ]
    }
   ],
   "source": [
    "for tweet in public_tweets:\n",
    "    if ((\"hPa\" in tweet['text']) and (\"Sol\" in tweet['text'])):\n",
    "        mars_weather = tweet['text']\n",
    "        break\n",
    "        \n",
    "print(mars_weather)"
   ]
  },
  {
   "cell_type": "markdown",
   "metadata": {},
   "source": [
    "### Building the table - from https://space-facts.com/mars/, table is pulled from the website and converted to a dataframe, where the columns are renamed, and then converted back to an html coded variable."
   ]
  },
  {
   "cell_type": "code",
   "execution_count": 31,
   "metadata": {},
   "outputs": [
    {
     "name": "stdout",
     "output_type": "stream",
     "text": [
      "                      0                              1\n",
      "0  Equatorial Diameter:                       6,792 km\n",
      "1       Polar Diameter:                       6,752 km\n",
      "2                 Mass:  6.42 x 10^23 kg (10.7% Earth)\n",
      "3                Moons:            2 (Phobos & Deimos)\n",
      "4       Orbit Distance:       227,943,824 km (1.52 AU)\n",
      "5         Orbit Period:           687 days (1.9 years)\n",
      "6  Surface Temperature:                  -153 to 20 °C\n",
      "7         First Record:              2nd millennium BC\n",
      "8          Recorded By:           Egyptian astronomers\n",
      "Tablelength: 1\n"
     ]
    }
   ],
   "source": [
    "url_tables = 'https://space-facts.com/mars/'\n",
    "\n",
    "tables = pd.read_html(url_tables)\n",
    "\n",
    "for each in tables:\n",
    "    print(each)\n",
    "    print(\"Tablelength: \" + str(len(tables)))"
   ]
  },
  {
   "cell_type": "code",
   "execution_count": 33,
   "metadata": {},
   "outputs": [
    {
     "data": {
      "text/html": [
       "<div>\n",
       "<style>\n",
       "    .dataframe thead tr:only-child th {\n",
       "        text-align: right;\n",
       "    }\n",
       "\n",
       "    .dataframe thead th {\n",
       "        text-align: left;\n",
       "    }\n",
       "\n",
       "    .dataframe tbody tr th {\n",
       "        vertical-align: top;\n",
       "    }\n",
       "</style>\n",
       "<table border=\"1\" class=\"dataframe\">\n",
       "  <thead>\n",
       "    <tr style=\"text-align: right;\">\n",
       "      <th></th>\n",
       "      <th>mars_data</th>\n",
       "    </tr>\n",
       "    <tr>\n",
       "      <th>planet_profile</th>\n",
       "      <th></th>\n",
       "    </tr>\n",
       "  </thead>\n",
       "  <tbody>\n",
       "    <tr>\n",
       "      <th>Equatorial Diameter:</th>\n",
       "      <td>6,792 km</td>\n",
       "    </tr>\n",
       "    <tr>\n",
       "      <th>Polar Diameter:</th>\n",
       "      <td>6,752 km</td>\n",
       "    </tr>\n",
       "    <tr>\n",
       "      <th>Mass:</th>\n",
       "      <td>6.42 x 10^23 kg (10.7% Earth)</td>\n",
       "    </tr>\n",
       "    <tr>\n",
       "      <th>Moons:</th>\n",
       "      <td>2 (Phobos &amp; Deimos)</td>\n",
       "    </tr>\n",
       "    <tr>\n",
       "      <th>Orbit Distance:</th>\n",
       "      <td>227,943,824 km (1.52 AU)</td>\n",
       "    </tr>\n",
       "  </tbody>\n",
       "</table>\n",
       "</div>"
      ],
      "text/plain": [
       "                                          mars_data\n",
       "planet_profile                                     \n",
       "Equatorial Diameter:                       6,792 km\n",
       "Polar Diameter:                            6,752 km\n",
       "Mass:                 6.42 x 10^23 kg (10.7% Earth)\n",
       "Moons:                          2 (Phobos & Deimos)\n",
       "Orbit Distance:            227,943,824 km (1.52 AU)"
      ]
     },
     "execution_count": 33,
     "metadata": {},
     "output_type": "execute_result"
    }
   ],
   "source": [
    "table_df = pd.DataFrame(tables[0])\n",
    "table_df = table_df.rename(columns={0:\"planet_profile\", 1:\"mars_data\"})\n",
    "table_df = table_df.set_index('planet_profile')\n",
    "table_df.head()"
   ]
  },
  {
   "cell_type": "code",
   "execution_count": 34,
   "metadata": {},
   "outputs": [
    {
     "data": {
      "text/plain": [
       "'<table border=\"1\" class=\"dataframe\">\\n  <thead>\\n    <tr style=\"text-align: right;\">\\n      <th></th>\\n      <th>mars_data</th>\\n    </tr>\\n    <tr>\\n      <th>planet_profile</th>\\n      <th></th>\\n    </tr>\\n  </thead>\\n  <tbody>\\n    <tr>\\n      <th>Equatorial Diameter:</th>\\n      <td>6,792 km</td>\\n    </tr>\\n    <tr>\\n      <th>Polar Diameter:</th>\\n      <td>6,752 km</td>\\n    </tr>\\n    <tr>\\n      <th>Mass:</th>\\n      <td>6.42 x 10^23 kg (10.7% Earth)</td>\\n    </tr>\\n    <tr>\\n      <th>Moons:</th>\\n      <td>2 (Phobos &amp; Deimos)</td>\\n    </tr>\\n    <tr>\\n      <th>Orbit Distance:</th>\\n      <td>227,943,824 km (1.52 AU)</td>\\n    </tr>\\n    <tr>\\n      <th>Orbit Period:</th>\\n      <td>687 days (1.9 years)</td>\\n    </tr>\\n    <tr>\\n      <th>Surface Temperature:</th>\\n      <td>-153 to 20 °C</td>\\n    </tr>\\n    <tr>\\n      <th>First Record:</th>\\n      <td>2nd millennium BC</td>\\n    </tr>\\n    <tr>\\n      <th>Recorded By:</th>\\n      <td>Egyptian astronomers</td>\\n    </tr>\\n  </tbody>\\n</table>'"
      ]
     },
     "execution_count": 34,
     "metadata": {},
     "output_type": "execute_result"
    }
   ],
   "source": [
    "table_html = pd.DataFrame.to_html(table_df)\n",
    "table_html"
   ]
  },
  {
   "cell_type": "markdown",
   "metadata": {},
   "source": [
    "### Finding hemisphere pictures (4)\n",
    "* Using splinter to click through the list of 4 links on the opening page.  Gathering all of the H3 tags (titles), then storing those titles into a list.\n",
    "* Then used splinter again to click to the URL where the image is stored.  This involved using splinter twice to click to the large image file.  Which also consisted of a popup page which needed to be stored as the 'current' page.\n",
    "* Image_url were stored in a seperate list, which was then zipped into a list of tuples, which was then used to create the list of dictionaries."
   ]
  },
  {
   "cell_type": "code",
   "execution_count": 19,
   "metadata": {},
   "outputs": [
    {
     "data": {
      "text/html": [
       "<div>\n",
       "<style>\n",
       "    .dataframe thead tr:only-child th {\n",
       "        text-align: right;\n",
       "    }\n",
       "\n",
       "    .dataframe thead th {\n",
       "        text-align: left;\n",
       "    }\n",
       "\n",
       "    .dataframe tbody tr th {\n",
       "        vertical-align: top;\n",
       "    }\n",
       "</style>\n",
       "<table border=\"1\" class=\"dataframe\">\n",
       "  <thead>\n",
       "    <tr style=\"text-align: right;\">\n",
       "      <th></th>\n",
       "      <th>title</th>\n",
       "      <th>img_url</th>\n",
       "    </tr>\n",
       "  </thead>\n",
       "  <tbody>\n",
       "  </tbody>\n",
       "</table>\n",
       "</div>"
      ],
      "text/plain": [
       "Empty DataFrame\n",
       "Columns: [title, img_url]\n",
       "Index: []"
      ]
     },
     "execution_count": 19,
     "metadata": {},
     "output_type": "execute_result"
    }
   ],
   "source": [
    "hemispheres = pd.DataFrame(columns=['title', 'img_url'])\n",
    "hemispheres"
   ]
  },
  {
   "cell_type": "code",
   "execution_count": 20,
   "metadata": {},
   "outputs": [
    {
     "name": "stdout",
     "output_type": "stream",
     "text": [
      "Cerberus Hemisphere Enhanced\n",
      "Schiaparelli Hemisphere Enhanced\n",
      "Syrtis Major Hemisphere Enhanced\n",
      "Valles Marineris Hemisphere Enhanced\n"
     ]
    }
   ],
   "source": [
    "splint_browser = Browser('chrome', executable_path='chromedriver.exe',\n",
    "                  headless=False)\n",
    "\n",
    "url = 'https://astrogeology.usgs.gov/search/results?q=hemisphere+enhanced&k1=target&v1=Mars'\n",
    "splint_browser.visit(url)\n",
    "\n",
    "hemisphere_list = []\n",
    "\n",
    "html = splint_browser.html\n",
    "soup = bs(html, 'html.parser')\n",
    "findHemisphere = soup.find_all('div', class_='item')\n",
    "\n",
    "for each in findHemisphere:\n",
    "    print(each.h3.text)\n",
    "    hemisphere_list.append(each.h3.text)\n",
    "    \n",
    "splint_browser.quit()"
   ]
  },
  {
   "cell_type": "code",
   "execution_count": 24,
   "metadata": {
    "collapsed": true
   },
   "outputs": [],
   "source": [
    "hemisphere_image = []\n",
    "\n",
    "for eachHemi in hemisphere_list:\n",
    "\n",
    "    splint_browser = Browser('chrome', executable_path='chromedriver.exe',\n",
    "                  headless=False)\n",
    "    splint_browser.visit(url)\n",
    "    time.sleep(2)\n",
    "    splint_browser.click_link_by_partial_text(eachHemi)\n",
    "\n",
    "    time.sleep(2)\n",
    "    splint_browser.click_link_by_text('Sample')\n",
    "    #Line 23\n",
    "    splint_browser.windows.current = splint_browser.windows[1]\n",
    "    #Line 24\n",
    "    html = splint_browser.html\n",
    "    soup = bs(html, 'html.parser')\n",
    "    splint_browser.quit()\n",
    "    #Line 25\n",
    "    hemi_image = soup.body.find('img')['src']\n",
    "    \n",
    "    hemisphere_image.append(hemi_image)"
   ]
  },
  {
   "cell_type": "code",
   "execution_count": 25,
   "metadata": {},
   "outputs": [
    {
     "name": "stdout",
     "output_type": "stream",
     "text": [
      "https://astropedia.astrogeology.usgs.gov/download/Mars/Viking/cerberus_enhanced.tif/full.jpg\n",
      "\n",
      "https://astropedia.astrogeology.usgs.gov/download/Mars/Viking/schiaparelli_enhanced.tif/full.jpg\n",
      "\n",
      "https://astropedia.astrogeology.usgs.gov/download/Mars/Viking/syrtis_major_enhanced.tif/full.jpg\n",
      "\n",
      "https://astropedia.astrogeology.usgs.gov/download/Mars/Viking/valles_marineris_enhanced.tif/full.jpg\n",
      "\n"
     ]
    }
   ],
   "source": [
    "for each in hemisphere_image:\n",
    "    print(each)\n",
    "    print()"
   ]
  },
  {
   "cell_type": "code",
   "execution_count": 26,
   "metadata": {
    "collapsed": true
   },
   "outputs": [],
   "source": [
    "# print(splint_browser.windows.current)\n",
    "# print(splint_browser.url)\n",
    "# splint_browser.windows.current = splint_browser.windows[1]"
   ]
  },
  {
   "cell_type": "code",
   "execution_count": 27,
   "metadata": {
    "collapsed": true
   },
   "outputs": [],
   "source": [
    "# html = splint_browser.html\n",
    "# soup = bs(html, 'html.parser')\n",
    "# print(soup.body.prettify())\n",
    "# splint_browser.quit()"
   ]
  },
  {
   "cell_type": "code",
   "execution_count": 28,
   "metadata": {
    "collapsed": true
   },
   "outputs": [],
   "source": [
    "# hemi_image = soup.body.find('img')['src']\n",
    "# print(hemi_image)\n",
    "# print(type(hemi_image))"
   ]
  },
  {
   "cell_type": "code",
   "execution_count": 29,
   "metadata": {
    "collapsed": true
   },
   "outputs": [],
   "source": [
    "# hemi_image = soup.body\n",
    "\n",
    "# for each in hemi_image:\n",
    "#     print(each['src'])\n",
    "#     print(type(each['src']))"
   ]
  },
  {
   "cell_type": "code",
   "execution_count": 61,
   "metadata": {
    "collapsed": true
   },
   "outputs": [],
   "source": [
    "title_image_url = []\n",
    "title_image_tuple = zip(hemisphere_list, hemisphere_image)"
   ]
  },
  {
   "cell_type": "code",
   "execution_count": 62,
   "metadata": {
    "collapsed": true
   },
   "outputs": [],
   "source": [
    "for each in title_image_tuple:\n",
    "    temp_dict = {}\n",
    "    temp_dict['title'] = each[0]\n",
    "    temp_dict['img_url'] = each[1]\n",
    "    title_image_url.append(temp_dict)"
   ]
  },
  {
   "cell_type": "code",
   "execution_count": 63,
   "metadata": {},
   "outputs": [
    {
     "name": "stdout",
     "output_type": "stream",
     "text": [
      "{'title': 'Cerberus Hemisphere Enhanced', 'img_url': 'https://astropedia.astrogeology.usgs.gov/download/Mars/Viking/cerberus_enhanced.tif/full.jpg'}\n",
      "{'title': 'Schiaparelli Hemisphere Enhanced', 'img_url': 'https://astropedia.astrogeology.usgs.gov/download/Mars/Viking/schiaparelli_enhanced.tif/full.jpg'}\n",
      "{'title': 'Syrtis Major Hemisphere Enhanced', 'img_url': 'https://astropedia.astrogeology.usgs.gov/download/Mars/Viking/syrtis_major_enhanced.tif/full.jpg'}\n",
      "{'title': 'Valles Marineris Hemisphere Enhanced', 'img_url': 'https://astropedia.astrogeology.usgs.gov/download/Mars/Viking/valles_marineris_enhanced.tif/full.jpg'}\n"
     ]
    }
   ],
   "source": [
    "for each in title_image_url:\n",
    "    print(each)"
   ]
  },
  {
   "cell_type": "code",
   "execution_count": 64,
   "metadata": {
    "collapsed": true
   },
   "outputs": [],
   "source": [
    "mars_dict = {'News Title': news_title, 'News Paragraph': news_p, 'Featured Image':\n",
    "    featured_image_url, 'Mars Weather': mars_weather, 'Mars Info': table_html,\n",
    "    'Hemisphere Images': title_image_url}"
   ]
  },
  {
   "cell_type": "code",
   "execution_count": 65,
   "metadata": {},
   "outputs": [
    {
     "name": "stdout",
     "output_type": "stream",
     "text": [
      "{'News Title': \"Mount Sharp 'Photobombs' Mars Curiosity Rover\", 'News Paragraph': \"A new self-portrait of NASA's Curiosity Mars rover shows the vehicle on Vera Rubin Ridge.\", 'Featured Image': 'https://www.jpl.nasa.gov/spaceimages/images/largesize/PIA14712_hires.jpg', 'Mars Weather': 'Sol 1949 (Jan 29, 2018), Sunny, high -20C/-4F, low -78C/-108F, pressure at 7.51 hPa, daylight 05:42-17:28', 'Mars Info': '<table border=\"1\" class=\"dataframe\">\\n  <thead>\\n    <tr style=\"text-align: right;\">\\n      <th></th>\\n      <th>planet_profile</th>\\n      <th>mars_data</th>\\n    </tr>\\n  </thead>\\n  <tbody>\\n    <tr>\\n      <th>0</th>\\n      <td>Equatorial Diameter:</td>\\n      <td>6,792 km</td>\\n    </tr>\\n    <tr>\\n      <th>1</th>\\n      <td>Polar Diameter:</td>\\n      <td>6,752 km</td>\\n    </tr>\\n    <tr>\\n      <th>2</th>\\n      <td>Mass:</td>\\n      <td>6.42 x 10^23 kg (10.7% Earth)</td>\\n    </tr>\\n    <tr>\\n      <th>3</th>\\n      <td>Moons:</td>\\n      <td>2 (Phobos &amp; Deimos)</td>\\n    </tr>\\n    <tr>\\n      <th>4</th>\\n      <td>Orbit Distance:</td>\\n      <td>227,943,824 km (1.52 AU)</td>\\n    </tr>\\n    <tr>\\n      <th>5</th>\\n      <td>Orbit Period:</td>\\n      <td>687 days (1.9 years)</td>\\n    </tr>\\n    <tr>\\n      <th>6</th>\\n      <td>Surface Temperature:</td>\\n      <td>-153 to 20 °C</td>\\n    </tr>\\n    <tr>\\n      <th>7</th>\\n      <td>First Record:</td>\\n      <td>2nd millennium BC</td>\\n    </tr>\\n    <tr>\\n      <th>8</th>\\n      <td>Recorded By:</td>\\n      <td>Egyptian astronomers</td>\\n    </tr>\\n  </tbody>\\n</table>', 'Hemisphere Images': [{'title': 'Cerberus Hemisphere Enhanced', 'img_url': 'https://astropedia.astrogeology.usgs.gov/download/Mars/Viking/cerberus_enhanced.tif/full.jpg'}, {'title': 'Schiaparelli Hemisphere Enhanced', 'img_url': 'https://astropedia.astrogeology.usgs.gov/download/Mars/Viking/schiaparelli_enhanced.tif/full.jpg'}, {'title': 'Syrtis Major Hemisphere Enhanced', 'img_url': 'https://astropedia.astrogeology.usgs.gov/download/Mars/Viking/syrtis_major_enhanced.tif/full.jpg'}, {'title': 'Valles Marineris Hemisphere Enhanced', 'img_url': 'https://astropedia.astrogeology.usgs.gov/download/Mars/Viking/valles_marineris_enhanced.tif/full.jpg'}]}\n"
     ]
    }
   ],
   "source": [
    "print(mars_dict)"
   ]
  },
  {
   "cell_type": "code",
   "execution_count": null,
   "metadata": {
    "collapsed": true
   },
   "outputs": [],
   "source": []
  }
 ],
 "metadata": {
  "kernelspec": {
   "display_name": "Python [conda env:PythonData]",
   "language": "python",
   "name": "conda-env-PythonData-py"
  },
  "language_info": {
   "codemirror_mode": {
    "name": "ipython",
    "version": 3
   },
   "file_extension": ".py",
   "mimetype": "text/x-python",
   "name": "python",
   "nbconvert_exporter": "python",
   "pygments_lexer": "ipython3",
   "version": "3.6.1"
  }
 },
 "nbformat": 4,
 "nbformat_minor": 2
}
